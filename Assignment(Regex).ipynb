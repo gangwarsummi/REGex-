{
  "nbformat": 4,
  "nbformat_minor": 0,
  "metadata": {
    "colab": {
      "name": "Assignment(Regex).ipynb",
      "provenance": [],
      "collapsed_sections": []
    },
    "kernelspec": {
      "name": "python3",
      "display_name": "Python 3"
    },
    "language_info": {
      "name": "python"
    }
  },
  "cells": [
    {
      "cell_type": "code",
      "metadata": {
        "id": "s83ElWcf36rX",
        "colab": {
          "base_uri": "https://localhost:8080/"
        },
        "outputId": "7571b2a5-db3b-4de6-ee55-761508500006"
      },
      "source": [
        "#1\n",
        "for i in range(5,0,-1):\n",
        "  for j in range (0,i):\n",
        "    print('5',end=\" \")\n",
        "  print(\" \")"
      ],
      "execution_count": 1,
      "outputs": [
        {
          "output_type": "stream",
          "text": [
            "5 5 5 5 5  \n",
            "5 5 5 5  \n",
            "5 5 5  \n",
            "5 5  \n",
            "5  \n"
          ],
          "name": "stdout"
        }
      ]
    },
    {
      "cell_type": "code",
      "metadata": {
        "colab": {
          "base_uri": "https://localhost:8080/"
        },
        "id": "SJP0BBCF1_p-",
        "outputId": "c2867972-64fa-4704-b093-7e1f7ab03440"
      },
      "source": [
        "#2\n",
        "for i in range(5,0,-1):\n",
        "  for j in range(0,i+1):\n",
        "    print (j,end=\" \")\n",
        "  print(\" \")"
      ],
      "execution_count": 2,
      "outputs": [
        {
          "output_type": "stream",
          "text": [
            "0 1 2 3 4 5  \n",
            "0 1 2 3 4  \n",
            "0 1 2 3  \n",
            "0 1 2  \n",
            "0 1  \n"
          ],
          "name": "stdout"
        }
      ]
    },
    {
      "cell_type": "code",
      "metadata": {
        "colab": {
          "base_uri": "https://localhost:8080/"
        },
        "id": "O6sS_ZIB2xkr",
        "outputId": "539b4adb-4786-492e-fb01-e985a4da5ef3"
      },
      "source": [
        "#3\n",
        "for i in range(1,10,2):\n",
        "  for j in range(1,i+1,2):\n",
        "    print (i,end=\" \")\n",
        "  print(\" \")"
      ],
      "execution_count": 3,
      "outputs": [
        {
          "output_type": "stream",
          "text": [
            "1  \n",
            "3 3  \n",
            "5 5 5  \n",
            "7 7 7 7  \n",
            "9 9 9 9 9  \n"
          ],
          "name": "stdout"
        }
      ]
    },
    {
      "cell_type": "code",
      "metadata": {
        "colab": {
          "base_uri": "https://localhost:8080/"
        },
        "id": "FzmnK2ai8o2f",
        "outputId": "827bb3d1-8fee-4fe5-f04e-e51f46ad04ee"
      },
      "source": [
        "#4\n",
        "for i in range(0,5):\n",
        "  for j in range(i+1,0,-1):\n",
        "    print (j,end=\" \")\n",
        "  print(\" \")"
      ],
      "execution_count": 4,
      "outputs": [
        {
          "output_type": "stream",
          "text": [
            "1  \n",
            "2 1  \n",
            "3 2 1  \n",
            "4 3 2 1  \n",
            "5 4 3 2 1  \n"
          ],
          "name": "stdout"
        }
      ]
    },
    {
      "cell_type": "code",
      "metadata": {
        "colab": {
          "base_uri": "https://localhost:8080/"
        },
        "id": "_ZrvyWfD9bYu",
        "outputId": "1a4f4a60-dde8-4be9-d6bd-82ad67cd04e2"
      },
      "source": [
        "#5\n",
        "count = 0\n",
        "for i in range(0,4):\n",
        "  count=count+i+1\n",
        "  temp = count\n",
        "  for j in range(0,i+1):\n",
        "    print (temp,end=\" \")\n",
        "    temp-=1\n",
        "  print(\" \")"
      ],
      "execution_count": 5,
      "outputs": [
        {
          "output_type": "stream",
          "text": [
            "1  \n",
            "3 2  \n",
            "6 5 4  \n",
            "10 9 8 7  \n"
          ],
          "name": "stdout"
        }
      ]
    },
    {
      "cell_type": "code",
      "metadata": {
        "id": "qamdTvqlVzqi",
        "colab": {
          "base_uri": "https://localhost:8080/"
        },
        "outputId": "be9982e7-e9b1-4a0d-9340-301b4c4e4589"
      },
      "source": [
        "#6\n",
        "def pascal(n):\n",
        "    for i in range(0, n):\n",
        "        for j in range(0, i + 1):\n",
        "            print(function(i, j),end=\" \")\n",
        "        print()\n",
        "def function(n, k):\n",
        "    res = 1\n",
        "    if (k > n - k):\n",
        "        k = n - k\n",
        "    for i in range(0, k):\n",
        "        res = res * (n - i)\n",
        "        res = res // (i + 1)\n",
        "    return res\n",
        "pascal(7)"
      ],
      "execution_count": 6,
      "outputs": [
        {
          "output_type": "stream",
          "text": [
            "1 \n",
            "1 1 \n",
            "1 2 1 \n",
            "1 3 3 1 \n",
            "1 4 6 4 1 \n",
            "1 5 10 10 5 1 \n",
            "1 6 15 20 15 6 1 \n"
          ],
          "name": "stdout"
        }
      ]
    },
    {
      "cell_type": "code",
      "metadata": {
        "colab": {
          "base_uri": "https://localhost:8080/"
        },
        "id": "9mG8mZXeWkb3",
        "outputId": "e3cbd82f-736e-495d-9713-8ad4d6709cfc"
      },
      "source": [
        "#7\n",
        "n=5  \n",
        "for i in range(1,n+ 1):  \n",
        "    for j in range(1, n+ 1):   \n",
        "        if j <= i:  \n",
        "            print(i, end=' ')  \n",
        "        else:  \n",
        "            print(j, end=' ')  \n",
        "    print()"
      ],
      "execution_count": 7,
      "outputs": [
        {
          "output_type": "stream",
          "text": [
            "1 2 3 4 5 \n",
            "2 2 3 4 5 \n",
            "3 3 3 4 5 \n",
            "4 4 4 4 5 \n",
            "5 5 5 5 5 \n"
          ],
          "name": "stdout"
        }
      ]
    },
    {
      "cell_type": "code",
      "metadata": {
        "colab": {
          "base_uri": "https://localhost:8080/"
        },
        "id": "kf6EJAOEFgC_",
        "outputId": "58164b1a-dd75-4aa8-f948-77bc13d9c555"
      },
      "source": [
        "#8\n",
        "for i in range(1,9):\n",
        "  for j in range(1,i+1):\n",
        "    print (i*j,end=\" \")\n",
        "  print(\" \")"
      ],
      "execution_count": 8,
      "outputs": [
        {
          "output_type": "stream",
          "text": [
            "1  \n",
            "2 4  \n",
            "3 6 9  \n",
            "4 8 12 16  \n",
            "5 10 15 20 25  \n",
            "6 12 18 24 30 36  \n",
            "7 14 21 28 35 42 49  \n",
            "8 16 24 32 40 48 56 64  \n"
          ],
          "name": "stdout"
        }
      ]
    },
    {
      "cell_type": "code",
      "metadata": {
        "colab": {
          "base_uri": "https://localhost:8080/"
        },
        "id": "UzuFbGNfZYs9",
        "outputId": "623e4312-5502-4f19-d789-f41f3d72736f"
      },
      "source": [
        "#9 \n",
        "rows = int(input(\"enter the number : \"))\n",
        "print(\"\")\n",
        "k = 2*rows -2\n",
        "for i in range(rows,-1,-1):\n",
        "  for j in range(k,0,-1):\n",
        "    print(end=\" \")\n",
        "  k = k+1\n",
        "  for j in range(0,i+1):\n",
        "    print(\"*\",end=\" \")\n",
        "  print(\"\\r\")"
      ],
      "execution_count": 9,
      "outputs": [
        {
          "output_type": "stream",
          "text": [
            "enter the number : 5\n",
            "\n",
            "        * * * * * * \n",
            "         * * * * * \n",
            "          * * * * \n",
            "           * * * \n",
            "            * * \n",
            "             * \n"
          ],
          "name": "stdout"
        }
      ]
    },
    {
      "cell_type": "code",
      "metadata": {
        "colab": {
          "base_uri": "https://localhost:8080/"
        },
        "id": "LHlcaVDCuayJ",
        "outputId": "7b907302-5b24-45cc-a41d-e28ced606145"
      },
      "source": [
        "#10\n",
        "n=7\n",
        "for i in range(1,n+1):\n",
        "    for j in range(0,n-i):\n",
        "        print(end=\" \")\n",
        "    for j in range(0,i):\n",
        "        print(\"*\",end=\" \")\n",
        "    print()"
      ],
      "execution_count": 10,
      "outputs": [
        {
          "output_type": "stream",
          "text": [
            "      * \n",
            "     * * \n",
            "    * * * \n",
            "   * * * * \n",
            "  * * * * * \n",
            " * * * * * * \n",
            "* * * * * * * \n"
          ],
          "name": "stdout"
        }
      ]
    },
    {
      "cell_type": "code",
      "metadata": {
        "colab": {
          "base_uri": "https://localhost:8080/"
        },
        "id": "m2_1fYeeucdZ",
        "outputId": "9f6b17f5-550c-4f37-cb24-474976137fbc"
      },
      "source": [
        "#11\n",
        "n=6\n",
        "for i in range(0, n):\n",
        "    for j in range(0, i + 1):\n",
        "        print(\"* \", end=\"\")\n",
        "    print(\"\\r\")\n",
        "print(\"                   \")\n",
        "for i in range(n,0,-1):\n",
        "    for j in range(0, i):\n",
        "        print(\"* \", end=\"\")\n",
        "    print(\"\\r\")"
      ],
      "execution_count": 11,
      "outputs": [
        {
          "output_type": "stream",
          "text": [
            "* \r\n",
            "* * \r\n",
            "* * * \r\n",
            "* * * * \r\n",
            "* * * * * \r\n",
            "* * * * * * \r\n",
            "                   \n",
            "* * * * * * \r\n",
            "* * * * * \r\n",
            "* * * * \r\n",
            "* * * \r\n",
            "* * \r\n",
            "* \r\n"
          ],
          "name": "stdout"
        }
      ]
    },
    {
      "cell_type": "code",
      "metadata": {
        "colab": {
          "base_uri": "https://localhost:8080/"
        },
        "id": "eCMyeyXquigG",
        "outputId": "9c27f9ce-72a6-4e98-8a36-c9b02fdce086"
      },
      "source": [
        "#12\n",
        "n=5\n",
        "for i in range(n):\n",
        "    for j in range(0,n-1):\n",
        "        print(end=\" \")\n",
        "    for j in range(0,i):\n",
        "        print(\"*\",end=\" \")\n",
        "    print()\n",
        "for i in range(n,0,-1):\n",
        "    for j in range(0,n-1):\n",
        "        print(end=\" \")\n",
        "    for j in range(0,i):\n",
        "        print(\"*\",end=\" \")\n",
        "    print()"
      ],
      "execution_count": 12,
      "outputs": [
        {
          "output_type": "stream",
          "text": [
            "    \n",
            "    * \n",
            "    * * \n",
            "    * * * \n",
            "    * * * * \n",
            "    * * * * * \n",
            "    * * * * \n",
            "    * * * \n",
            "    * * \n",
            "    * \n"
          ],
          "name": "stdout"
        }
      ]
    },
    {
      "cell_type": "code",
      "metadata": {
        "colab": {
          "base_uri": "https://localhost:8080/"
        },
        "id": "BhJcGHuOulWG",
        "outputId": "c3f5fbdc-9b69-4f69-976d-305f26b27709"
      },
      "source": [
        "#13\n",
        "n=5\n",
        "k = 2 * n - 2\n",
        "for i in range(0, n-1):\n",
        "    for j in range(0, k):\n",
        "        print(end=\" \")\n",
        "    k = k - 2\n",
        "    for j in range(0, i + 1):\n",
        "        print(\"* \", end=\"\")\n",
        "    print(\"\\r\")\n",
        "k = -1\n",
        "for i in range(n-1,-1,-1):\n",
        "    for j in range(k,-1,-1):\n",
        "        print(end=\" \")\n",
        "    k = k + 2\n",
        "    for j in range(0, i + 1):\n",
        "        print(\"* \", end=\"\")\n",
        "    print(\"\\r\")"
      ],
      "execution_count": 13,
      "outputs": [
        {
          "output_type": "stream",
          "text": [
            "        * \r\n",
            "      * * \r\n",
            "    * * * \r\n",
            "  * * * * \r\n",
            "* * * * * \r\n",
            "  * * * * \r\n",
            "    * * * \r\n",
            "      * * \r\n",
            "        * \r\n"
          ],
          "name": "stdout"
        }
      ]
    },
    {
      "cell_type": "code",
      "metadata": {
        "colab": {
          "base_uri": "https://localhost:8080/"
        },
        "id": "1XB84GuEunvQ",
        "outputId": "cf849ac7-7803-4693-d7eb-71af554af8c8"
      },
      "source": [
        "#14\n",
        "n=4\n",
        "k = n - 2\n",
        "for i in range(n,-1 ,-1):\n",
        "    for j in range(k , 0 , -1):\n",
        "          print(end=\" \")\n",
        "    k = k + 1    \n",
        "    for j in range(0, i+1):\n",
        "        print(\"* \" , end=\"\")\n",
        "    print(\"\\r\")\n",
        "k = 2 * n  - 2\n",
        "for i in range(0 , n+1):\n",
        "    for j in range(0 , k):\n",
        "        print(end=\" \")\n",
        "    k = k - 1\n",
        "    for j in range(0, i + 1):\n",
        "        print(\"* \", end=\"\")\n",
        "    print(\"\\r\")"
      ],
      "execution_count": 14,
      "outputs": [
        {
          "output_type": "stream",
          "text": [
            "  * * * * * \r\n",
            "   * * * * \r\n",
            "    * * * \r\n",
            "     * * \r\n",
            "      * \r\n",
            "      * \r\n",
            "     * * \r\n",
            "    * * * \r\n",
            "   * * * * \r\n",
            "  * * * * * \r\n"
          ],
          "name": "stdout"
        }
      ]
    },
    {
      "cell_type": "code",
      "metadata": {
        "colab": {
          "base_uri": "https://localhost:8080/"
        },
        "id": "bmM5ridbuqmL",
        "outputId": "73f55fe6-f941-4532-deeb-7fbbc36e776f"
      },
      "source": [
        "#15\n",
        "# part1\n",
        "for i in range(8,0,-1):\n",
        "    for j in range(0, i):\n",
        "        print(\"*\", end=\"\")\n",
        "    for j in range(8-i):\n",
        "        print(\"_\",end=\"\")\n",
        "    print()"
      ],
      "execution_count": 15,
      "outputs": [
        {
          "output_type": "stream",
          "text": [
            "********\n",
            "*******_\n",
            "******__\n",
            "*****___\n",
            "****____\n",
            "***_____\n",
            "**______\n",
            "*_______\n"
          ],
          "name": "stdout"
        }
      ]
    },
    {
      "cell_type": "code",
      "metadata": {
        "colab": {
          "base_uri": "https://localhost:8080/"
        },
        "id": "Q4B89U4uuuPg",
        "outputId": "40722f8f-8b03-4e53-8fcd-6f6392799df8"
      },
      "source": [
        "# part2\n",
        "for i in range(8,0,-1):\n",
        "    for j in range(8-i):\n",
        "        print(\"_\",end=\"\")\n",
        "    for j in range(i,0,-1):\n",
        "        print(\"*\",end=\"\")\n",
        "    print()"
      ],
      "execution_count": 16,
      "outputs": [
        {
          "output_type": "stream",
          "text": [
            "********\n",
            "_*******\n",
            "__******\n",
            "___*****\n",
            "____****\n",
            "_____***\n",
            "______**\n",
            "_______*\n"
          ],
          "name": "stdout"
        }
      ]
    },
    {
      "cell_type": "code",
      "metadata": {
        "colab": {
          "base_uri": "https://localhost:8080/"
        },
        "id": "eiOEN7YquwV7",
        "outputId": "c7f94a47-1d2c-42d5-9afa-998b9a331fa6"
      },
      "source": [
        "# combine the for loops\n",
        "for i in range(8,0,-1):\n",
        "    for j in range(0, i):\n",
        "        print(\"*\", end=\"\")\n",
        "    for j in range(8-i):\n",
        "        print(\"_\",end=\"\")\n",
        "    for j in range(8-i):\n",
        "        print(\"_\",end=\"\")\n",
        "    for j in range(i,0,-1):\n",
        "        print(\"*\",end=\"\")    \n",
        "    print()\n",
        "    "
      ],
      "execution_count": 17,
      "outputs": [
        {
          "output_type": "stream",
          "text": [
            "****************\n",
            "*******__*******\n",
            "******____******\n",
            "*****______*****\n",
            "****________****\n",
            "***__________***\n",
            "**____________**\n",
            "*______________*\n"
          ],
          "name": "stdout"
        }
      ]
    }
  ]
}